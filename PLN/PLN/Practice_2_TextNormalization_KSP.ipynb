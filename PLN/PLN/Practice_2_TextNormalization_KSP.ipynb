{
 "cells": [
  {
   "cell_type": "markdown",
   "id": "d4bf92ca",
   "metadata": {},
   "source": [
    "# Practice 2\n",
    "## Text Normalization\n",
    "### Silva Paredes Kaeri 7CM3\n",
    "#### Natural Language Processing"
   ]
  },
  {
   "cell_type": "code",
   "execution_count": 4,
   "id": "968f7203",
   "metadata": {},
   "outputs": [],
   "source": [
    "import re\n",
    "import spacy"
   ]
  },
  {
   "cell_type": "code",
   "execution_count": 5,
   "id": "864eebe3",
   "metadata": {},
   "outputs": [],
   "source": [
    "nlp = spacy.load('es_core_news_sm')\n",
    "with open(\"corpus_noticias.txt\", \"r\", encoding=\"utf-8\") as file:\n",
    "    corpus = file.read()\n"
   ]
  },
  {
   "cell_type": "code",
   "execution_count": 6,
   "id": "98daf574",
   "metadata": {},
   "outputs": [],
   "source": [
    "def tokenize(text):\n",
    "    words = re.findall(r'\\b\\w+\\b', text.lower())\n",
    "    return words\n",
    "\n",
    "# Tokenizar y lematizar el contenido extraído\n",
    "def lemmatize(tokens):\n",
    "    lemmas = {\n",
    "        \"news\": \"noticia\",\n",
    "        \"car\": \"coche\",\n",
    "\n",
    "    }\n",
    "    lemmatized_tokens = [lemmas.get(word, word) for word in tokens]\n",
    "    return lemmatized_tokens\n",
    "\n",
    "\n",
    "stopwords = [\n",
    "    \"a\", \"al\", \"ante\", \"bajo\", \"cabe\", \"con\", \"contra\", \"de\", \"desde\", \"e\", \"el\",\n",
    "    \"ella\", \"ellas\", \"ellos\", \"en\", \"entre\", \"era\", \"erais\", \"eran\", \"eras\", \"eres\",\n",
    "    \"es\", \"esa\", \"esas\", \"ese\", \"eses\", \"esto\", \"estos\", \"fue\", \"fueron\", \"fuiste\",\n",
    "    \"fuimos\", \"ha\", \"han\", \"has\", \"hasta\", \"hay\", \"l\", \"la\", \"las\", \"le\", \"les\", \"lo\",\n",
    "    \"los\", \"me\", \"mi\", \"mis\", \"mucho\", \"muchos\", \"nada\", \"ni\", \"no\", \"nos\", \"nosotros\",\n",
    "    \"o\", \"os\", \"para\", \"pero\", \"por\", \"porque\", \"que\", \"quien\", \"se\", \"sean\", \"si\",\n",
    "    \"sido\", \"sin\", \"sobre\", \"sois\", \"somos\", \"su\", \"sus\", \"también\", \"te\", \"tengo\",\n",
    "    \"ti\", \"tu\", \"tus\", \"un\", \"una\", \"uno\", \"unos\", \"vosotros\", \"y\", \"ya\", \"del\",\n",
    "]\n"
   ]
  },
  {
   "cell_type": "code",
   "execution_count": 7,
   "id": "dc774a7e",
   "metadata": {},
   "outputs": [
    {
     "name": "stdout",
     "output_type": "stream",
     "text": [
      "Se ha limpiado el texto\n"
     ]
    }
   ],
   "source": [
    "# Extraer la sección de noticias\n",
    "noticias = re.split(r'&&&&&&&&[A-Za-z\\s]+!', corpus)\n",
    "corpus_noticias = [noticia.strip() for noticia in noticias if noticia.strip()]\n",
    "\n",
    "\n",
    "for noticia in corpus_noticias:\n",
    "    tokens = tokenize(noticia)\n",
    "    lemmatized_tokens = lemmatize(tokens)\n",
    "    filtered_tokens = [word for word in lemmatized_tokens if word not in stopwords]\n",
    "    # Puedes hacer lo que desees con los tokens procesados aquí, como imprimirlos o guardarlos.\n",
    "with open('corpus_noticias_limpio.txt', \"w\", encoding=\"utf-8\") as f:\n",
    "    f.writelines(filtered_tokens)\n",
    "f.close()\n",
    "print('Se ha limpiado el texto')\n"
   ]
  },
  {
   "cell_type": "code",
   "execution_count": 8,
   "id": "cb5dbd5b",
   "metadata": {},
   "outputs": [
    {
     "name": "stdout",
     "output_type": "stream",
     "text": [
      "Se ha creado el archivo 'corpus_noticias_normalizado.txt' con el texto normalizado.\n"
     ]
    }
   ],
   "source": [
    "with open('corpus_noticias_limpio.txt', 'r', encoding='utf-8') as file:\n",
    "    texto = file.read()\n",
    "\n",
    "# Procesar el texto con spaCy\n",
    "doc = nlp(texto)\n",
    "\n",
    "# Realizar tareas de procesamiento de texto según sea necesario\n",
    "# Por ejemplo, aquí puedes imprimir las oraciones tokenizadas y lematizadas:\n",
    "normalized_text = \"\"\n",
    "for sentence in doc.sents:\n",
    "    for token in sentence:\n",
    "        normalized_text += f\"Token: {token.text}, Lema: {token.lemma_}, Parte del habla: {token.pos_}\\n\"\n",
    "\n",
    "# También puedes realizar otras tareas de procesamiento o análisis según tus necesidades.\n",
    "\n",
    "# Escribir el texto normalizado en un archivo de salida\n",
    "with open('corpus_noticias_normalizado.txt', 'w', encoding='utf-8') as output_file:\n",
    "    output_file.write(normalized_text)\n",
    "\n",
    "print(\"Se ha creado el archivo 'corpus_noticias_normalizado.txt' con el texto normalizado.\")"
   ]
  },
  {
   "cell_type": "code",
   "execution_count": null,
   "id": "95a3e504",
   "metadata": {},
   "outputs": [],
   "source": []
  }
 ],
 "metadata": {
  "kernelspec": {
   "display_name": "Python 3 (ipykernel)",
   "language": "python",
   "name": "python3"
  },
  "language_info": {
   "codemirror_mode": {
    "name": "ipython",
    "version": 3
   },
   "file_extension": ".py",
   "mimetype": "text/x-python",
   "name": "python",
   "nbconvert_exporter": "python",
   "pygments_lexer": "ipython3",
   "version": "3.9.12"
  }
 },
 "nbformat": 4,
 "nbformat_minor": 5
}
