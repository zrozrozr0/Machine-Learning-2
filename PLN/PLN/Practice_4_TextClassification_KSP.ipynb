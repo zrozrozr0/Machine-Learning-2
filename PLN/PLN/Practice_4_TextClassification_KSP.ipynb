{
  "nbformat": 4,
  "nbformat_minor": 0,
  "metadata": {
    "colab": {
      "provenance": []
    },
    "kernelspec": {
      "name": "python3",
      "display_name": "Python 3"
    },
    "language_info": {
      "name": "python"
    }
  },
  "cells": [
    {
      "cell_type": "markdown",
      "source": [
        "#  Practice 4\n",
        "## Text classification\n",
        "### Silva Paredes Kaeri 7CM3\n",
        "### Natural Language processing"
      ],
      "metadata": {
        "id": "3TKKrgzUTY46"
      }
    },
    {
      "cell_type": "code",
      "source": [
        "!python -m spacy download en_core_web_sm"
      ],
      "metadata": {
        "colab": {
          "base_uri": "https://localhost:8080/"
        },
        "id": "38ay4TvHnz23",
        "outputId": "09b2ab8c-7855-46a9-f15b-7d184aa54f8c"
      },
      "execution_count": 2,
      "outputs": [
        {
          "output_type": "stream",
          "name": "stdout",
          "text": [
            "2023-10-30 03:27:55.145754: E tensorflow/compiler/xla/stream_executor/cuda/cuda_dnn.cc:9342] Unable to register cuDNN factory: Attempting to register factory for plugin cuDNN when one has already been registered\n",
            "2023-10-30 03:27:55.145823: E tensorflow/compiler/xla/stream_executor/cuda/cuda_fft.cc:609] Unable to register cuFFT factory: Attempting to register factory for plugin cuFFT when one has already been registered\n",
            "2023-10-30 03:27:55.145862: E tensorflow/compiler/xla/stream_executor/cuda/cuda_blas.cc:1518] Unable to register cuBLAS factory: Attempting to register factory for plugin cuBLAS when one has already been registered\n",
            "2023-10-30 03:27:56.390046: W tensorflow/compiler/tf2tensorrt/utils/py_utils.cc:38] TF-TRT Warning: Could not find TensorRT\n",
            "Collecting en-core-web-sm==3.6.0\n",
            "  Downloading https://github.com/explosion/spacy-models/releases/download/en_core_web_sm-3.6.0/en_core_web_sm-3.6.0-py3-none-any.whl (12.8 MB)\n",
            "\u001b[2K     \u001b[90m━━━━━━━━━━━━━━━━━━━━━━━━━━━━━━━━━━━━━━━━\u001b[0m \u001b[32m12.8/12.8 MB\u001b[0m \u001b[31m84.4 MB/s\u001b[0m eta \u001b[36m0:00:00\u001b[0m\n",
            "\u001b[?25hRequirement already satisfied: spacy<3.7.0,>=3.6.0 in /usr/local/lib/python3.10/dist-packages (from en-core-web-sm==3.6.0) (3.6.1)\n",
            "Requirement already satisfied: spacy-legacy<3.1.0,>=3.0.11 in /usr/local/lib/python3.10/dist-packages (from spacy<3.7.0,>=3.6.0->en-core-web-sm==3.6.0) (3.0.12)\n",
            "Requirement already satisfied: spacy-loggers<2.0.0,>=1.0.0 in /usr/local/lib/python3.10/dist-packages (from spacy<3.7.0,>=3.6.0->en-core-web-sm==3.6.0) (1.0.5)\n",
            "Requirement already satisfied: murmurhash<1.1.0,>=0.28.0 in /usr/local/lib/python3.10/dist-packages (from spacy<3.7.0,>=3.6.0->en-core-web-sm==3.6.0) (1.0.10)\n",
            "Requirement already satisfied: cymem<2.1.0,>=2.0.2 in /usr/local/lib/python3.10/dist-packages (from spacy<3.7.0,>=3.6.0->en-core-web-sm==3.6.0) (2.0.8)\n",
            "Requirement already satisfied: preshed<3.1.0,>=3.0.2 in /usr/local/lib/python3.10/dist-packages (from spacy<3.7.0,>=3.6.0->en-core-web-sm==3.6.0) (3.0.9)\n",
            "Requirement already satisfied: thinc<8.2.0,>=8.1.8 in /usr/local/lib/python3.10/dist-packages (from spacy<3.7.0,>=3.6.0->en-core-web-sm==3.6.0) (8.1.12)\n",
            "Requirement already satisfied: wasabi<1.2.0,>=0.9.1 in /usr/local/lib/python3.10/dist-packages (from spacy<3.7.0,>=3.6.0->en-core-web-sm==3.6.0) (1.1.2)\n",
            "Requirement already satisfied: srsly<3.0.0,>=2.4.3 in /usr/local/lib/python3.10/dist-packages (from spacy<3.7.0,>=3.6.0->en-core-web-sm==3.6.0) (2.4.8)\n",
            "Requirement already satisfied: catalogue<2.1.0,>=2.0.6 in /usr/local/lib/python3.10/dist-packages (from spacy<3.7.0,>=3.6.0->en-core-web-sm==3.6.0) (2.0.10)\n",
            "Requirement already satisfied: typer<0.10.0,>=0.3.0 in /usr/local/lib/python3.10/dist-packages (from spacy<3.7.0,>=3.6.0->en-core-web-sm==3.6.0) (0.9.0)\n",
            "Requirement already satisfied: pathy>=0.10.0 in /usr/local/lib/python3.10/dist-packages (from spacy<3.7.0,>=3.6.0->en-core-web-sm==3.6.0) (0.10.3)\n",
            "Requirement already satisfied: smart-open<7.0.0,>=5.2.1 in /usr/local/lib/python3.10/dist-packages (from spacy<3.7.0,>=3.6.0->en-core-web-sm==3.6.0) (6.4.0)\n",
            "Requirement already satisfied: tqdm<5.0.0,>=4.38.0 in /usr/local/lib/python3.10/dist-packages (from spacy<3.7.0,>=3.6.0->en-core-web-sm==3.6.0) (4.66.1)\n",
            "Requirement already satisfied: numpy>=1.15.0 in /usr/local/lib/python3.10/dist-packages (from spacy<3.7.0,>=3.6.0->en-core-web-sm==3.6.0) (1.23.5)\n",
            "Requirement already satisfied: requests<3.0.0,>=2.13.0 in /usr/local/lib/python3.10/dist-packages (from spacy<3.7.0,>=3.6.0->en-core-web-sm==3.6.0) (2.31.0)\n",
            "Requirement already satisfied: pydantic!=1.8,!=1.8.1,<3.0.0,>=1.7.4 in /usr/local/lib/python3.10/dist-packages (from spacy<3.7.0,>=3.6.0->en-core-web-sm==3.6.0) (1.10.13)\n",
            "Requirement already satisfied: jinja2 in /usr/local/lib/python3.10/dist-packages (from spacy<3.7.0,>=3.6.0->en-core-web-sm==3.6.0) (3.1.2)\n",
            "Requirement already satisfied: setuptools in /usr/local/lib/python3.10/dist-packages (from spacy<3.7.0,>=3.6.0->en-core-web-sm==3.6.0) (67.7.2)\n",
            "Requirement already satisfied: packaging>=20.0 in /usr/local/lib/python3.10/dist-packages (from spacy<3.7.0,>=3.6.0->en-core-web-sm==3.6.0) (23.2)\n",
            "Requirement already satisfied: langcodes<4.0.0,>=3.2.0 in /usr/local/lib/python3.10/dist-packages (from spacy<3.7.0,>=3.6.0->en-core-web-sm==3.6.0) (3.3.0)\n",
            "Requirement already satisfied: typing-extensions>=4.2.0 in /usr/local/lib/python3.10/dist-packages (from pydantic!=1.8,!=1.8.1,<3.0.0,>=1.7.4->spacy<3.7.0,>=3.6.0->en-core-web-sm==3.6.0) (4.5.0)\n",
            "Requirement already satisfied: charset-normalizer<4,>=2 in /usr/local/lib/python3.10/dist-packages (from requests<3.0.0,>=2.13.0->spacy<3.7.0,>=3.6.0->en-core-web-sm==3.6.0) (3.3.1)\n",
            "Requirement already satisfied: idna<4,>=2.5 in /usr/local/lib/python3.10/dist-packages (from requests<3.0.0,>=2.13.0->spacy<3.7.0,>=3.6.0->en-core-web-sm==3.6.0) (3.4)\n",
            "Requirement already satisfied: urllib3<3,>=1.21.1 in /usr/local/lib/python3.10/dist-packages (from requests<3.0.0,>=2.13.0->spacy<3.7.0,>=3.6.0->en-core-web-sm==3.6.0) (2.0.7)\n",
            "Requirement already satisfied: certifi>=2017.4.17 in /usr/local/lib/python3.10/dist-packages (from requests<3.0.0,>=2.13.0->spacy<3.7.0,>=3.6.0->en-core-web-sm==3.6.0) (2023.7.22)\n",
            "Requirement already satisfied: blis<0.8.0,>=0.7.8 in /usr/local/lib/python3.10/dist-packages (from thinc<8.2.0,>=8.1.8->spacy<3.7.0,>=3.6.0->en-core-web-sm==3.6.0) (0.7.11)\n",
            "Requirement already satisfied: confection<1.0.0,>=0.0.1 in /usr/local/lib/python3.10/dist-packages (from thinc<8.2.0,>=8.1.8->spacy<3.7.0,>=3.6.0->en-core-web-sm==3.6.0) (0.1.3)\n",
            "Requirement already satisfied: click<9.0.0,>=7.1.1 in /usr/local/lib/python3.10/dist-packages (from typer<0.10.0,>=0.3.0->spacy<3.7.0,>=3.6.0->en-core-web-sm==3.6.0) (8.1.7)\n",
            "Requirement already satisfied: MarkupSafe>=2.0 in /usr/local/lib/python3.10/dist-packages (from jinja2->spacy<3.7.0,>=3.6.0->en-core-web-sm==3.6.0) (2.1.3)\n",
            "\u001b[38;5;2m✔ Download and installation successful\u001b[0m\n",
            "You can now load the package via spacy.load('en_core_web_sm')\n"
          ]
        }
      ]
    },
    {
      "cell_type": "code",
      "source": [
        "import spacy\n",
        "from sklearn.datasets import fetch_20newsgroups\n",
        "from sklearn.feature_extraction.text import CountVectorizer, TfidfVectorizer\n",
        "from sklearn.linear_model import LogisticRegression\n",
        "from sklearn.naive_bayes import MultinomialNB\n",
        "from sklearn.metrics import classification_report\n",
        "\n",
        "# Carga y separación del corpus\n",
        "newsgroups_train = fetch_20newsgroups(subset='train')\n",
        "newsgroups_test = fetch_20newsgroups(subset='test')\n",
        "\n",
        "nlp = spacy.load(\"en_core_web_sm\")\n",
        "\n",
        "# Función para realizar tokenización, limpieza de texto, eliminación de stop words y lematización\n",
        "def normalize_text(text):\n",
        "    doc = nlp(text)\n",
        "    cleaned_tokens = [token.lemma_ for token in doc if token.is_alpha and not token.is_stop]\n",
        "    return ' '.join(cleaned_tokens)\n",
        "\n",
        "# Normalizar los conjuntos de entrenamiento y prueba\n",
        "X_train_normalized = [normalize_text(text) for text in newsgroups_train.data]\n",
        "X_test_normalized = [normalize_text(text) for text in newsgroups_test.data]\n",
        "\n",
        "# Representación de texto binarizada\n",
        "binary_vectorizer = CountVectorizer(binary=True)\n",
        "X_train_binary = binary_vectorizer.fit_transform(X_train_normalized)\n",
        "X_test_binary = binary_vectorizer.transform(X_test_normalized)\n",
        "\n",
        "# Representación de texto por frecuencia\n",
        "frequency_vectorizer = CountVectorizer()\n",
        "X_train_frequency = frequency_vectorizer.fit_transform(X_train_normalized)\n",
        "X_test_frequency = frequency_vectorizer.transform(X_test_normalized)\n",
        "\n",
        "# Representación de texto TF-IDF\n",
        "tfidf_vectorizer = TfidfVectorizer()\n",
        "X_train_tfidf = tfidf_vectorizer.fit_transform(X_train_normalized)\n",
        "X_test_tfidf = tfidf_vectorizer.transform(X_test_normalized)\n",
        "\n",
        "\n",
        "\n",
        "\n",
        "\n",
        "\n"
      ],
      "metadata": {
        "id": "-cir3NBx6rVF"
      },
      "execution_count": 3,
      "outputs": []
    },
    {
      "cell_type": "markdown",
      "source": [
        "**Pruebas de binarizado**"
      ],
      "metadata": {
        "id": "kCEMyxE7G-Jz"
      }
    },
    {
      "cell_type": "code",
      "source": [
        "clf = LogisticRegression(max_iter=1000)\n",
        "clf.fit(X_train_binary, newsgroups_train.target)\n",
        "y_pred = clf.predict(X_test_binary)\n",
        "print(\"Resultados de Regresión Logística con binary:\")\n",
        "print(classification_report(newsgroups_test.target, y_pred))"
      ],
      "metadata": {
        "colab": {
          "base_uri": "https://localhost:8080/"
        },
        "id": "0ZmSZRrTHFPB",
        "outputId": "3e4bdc57-57af-419a-bcf1-6c4e51f91a5f"
      },
      "execution_count": 7,
      "outputs": [
        {
          "output_type": "stream",
          "name": "stdout",
          "text": [
            "Resultados de Regresión Logística con binary:\n",
            "              precision    recall  f1-score   support\n",
            "\n",
            "           0       0.71      0.69      0.70       319\n",
            "           1       0.65      0.73      0.69       389\n",
            "           2       0.74      0.71      0.72       394\n",
            "           3       0.65      0.72      0.68       392\n",
            "           4       0.81      0.82      0.81       385\n",
            "           5       0.78      0.76      0.77       395\n",
            "           6       0.78      0.86      0.82       390\n",
            "           7       0.86      0.82      0.84       396\n",
            "           8       0.92      0.92      0.92       398\n",
            "           9       0.88      0.91      0.90       397\n",
            "          10       0.95      0.93      0.94       399\n",
            "          11       0.94      0.86      0.90       396\n",
            "          12       0.69      0.67      0.68       393\n",
            "          13       0.84      0.77      0.80       396\n",
            "          14       0.88      0.88      0.88       394\n",
            "          15       0.79      0.90      0.84       398\n",
            "          16       0.69      0.85      0.76       364\n",
            "          17       0.94      0.79      0.86       376\n",
            "          18       0.66      0.52      0.58       310\n",
            "          19       0.62      0.56      0.59       251\n",
            "\n",
            "    accuracy                           0.79      7532\n",
            "   macro avg       0.79      0.78      0.78      7532\n",
            "weighted avg       0.79      0.79      0.79      7532\n",
            "\n"
          ]
        }
      ]
    },
    {
      "cell_type": "code",
      "source": [
        "clf_nb = MultinomialNB()\n",
        "clf_nb.fit(X_train_binary, newsgroups_train.target)\n",
        "y_pred_nb = clf_nb.predict(X_test_binary)\n",
        "print(\"Resultados de Naive Bayes con binary:\")\n",
        "print(classification_report(newsgroups_test.target, y_pred_nb))"
      ],
      "metadata": {
        "colab": {
          "base_uri": "https://localhost:8080/"
        },
        "id": "Ygvj8LHHHPoZ",
        "outputId": "28bcec64-9fbb-4827-880c-b354701b1983"
      },
      "execution_count": 8,
      "outputs": [
        {
          "output_type": "stream",
          "name": "stdout",
          "text": [
            "Resultados de Naive Bayes con binary:\n",
            "              precision    recall  f1-score   support\n",
            "\n",
            "           0       0.78      0.70      0.74       319\n",
            "           1       0.72      0.70      0.71       389\n",
            "           2       0.79      0.60      0.68       394\n",
            "           3       0.65      0.78      0.71       392\n",
            "           4       0.86      0.76      0.81       385\n",
            "           5       0.80      0.80      0.80       395\n",
            "           6       0.88      0.74      0.80       390\n",
            "           7       0.87      0.90      0.89       396\n",
            "           8       0.92      0.93      0.92       398\n",
            "           9       0.96      0.91      0.94       397\n",
            "          10       0.95      0.97      0.96       399\n",
            "          11       0.69      0.94      0.80       396\n",
            "          12       0.77      0.66      0.71       393\n",
            "          13       0.91      0.82      0.86       396\n",
            "          14       0.82      0.92      0.87       394\n",
            "          15       0.73      0.96      0.83       398\n",
            "          16       0.63      0.95      0.76       364\n",
            "          17       0.91      0.93      0.92       376\n",
            "          18       0.77      0.56      0.65       310\n",
            "          19       0.91      0.32      0.47       251\n",
            "\n",
            "    accuracy                           0.80      7532\n",
            "   macro avg       0.82      0.79      0.79      7532\n",
            "weighted avg       0.82      0.80      0.80      7532\n",
            "\n"
          ]
        }
      ]
    },
    {
      "cell_type": "code",
      "source": [
        "from sklearn.neural_network import MLPClassifier\n",
        "\n",
        "clf_mlp = MLPClassifier(hidden_layer_sizes=(100,), max_iter = 1000, random_state=1)\n",
        "clf_mlp.fit(X_train_binary, newsgroups_train.target)\n",
        "y_pred_mlp = clf_mlp.predict(X_test_binary)\n",
        "print(\"Resultados de MLP con binary\")\n",
        "print(classification_report(newsgroups_test.target,y_pred_mlp))"
      ],
      "metadata": {
        "colab": {
          "base_uri": "https://localhost:8080/"
        },
        "id": "zZWtJRXaHW9n",
        "outputId": "8d2f305d-8af3-4496-ef5f-a4da10540ac1"
      },
      "execution_count": 11,
      "outputs": [
        {
          "output_type": "stream",
          "name": "stdout",
          "text": [
            "Resultados de MLP con binary\n",
            "              precision    recall  f1-score   support\n",
            "\n",
            "           0       0.76      0.74      0.75       319\n",
            "           1       0.71      0.79      0.75       389\n",
            "           2       0.75      0.74      0.74       394\n",
            "           3       0.67      0.75      0.71       392\n",
            "           4       0.83      0.81      0.82       385\n",
            "           5       0.84      0.76      0.80       395\n",
            "           6       0.78      0.85      0.81       390\n",
            "           7       0.90      0.90      0.90       396\n",
            "           8       0.95      0.95      0.95       398\n",
            "           9       0.93      0.95      0.94       397\n",
            "          10       0.95      0.94      0.95       399\n",
            "          11       0.94      0.91      0.93       396\n",
            "          12       0.76      0.73      0.74       393\n",
            "          13       0.92      0.84      0.88       396\n",
            "          14       0.91      0.92      0.91       394\n",
            "          15       0.80      0.91      0.85       398\n",
            "          16       0.73      0.90      0.81       364\n",
            "          17       0.98      0.85      0.91       376\n",
            "          18       0.79      0.57      0.66       310\n",
            "          19       0.69      0.63      0.66       251\n",
            "\n",
            "    accuracy                           0.83      7532\n",
            "   macro avg       0.83      0.82      0.82      7532\n",
            "weighted avg       0.83      0.83      0.83      7532\n",
            "\n"
          ]
        }
      ]
    },
    {
      "cell_type": "markdown",
      "source": [
        "**Pruebas de frequency**"
      ],
      "metadata": {
        "id": "KEWBmZWeGNs0"
      }
    },
    {
      "cell_type": "code",
      "source": [
        "clf = LogisticRegression(max_iter=1000)\n",
        "clf.fit(X_train_frequency, newsgroups_train.target)\n",
        "y_pred = clf.predict(X_test_frequency)\n",
        "print(\"Resultados de Regresión Logística con frequency:\")\n",
        "print(classification_report(newsgroups_test.target, y_pred))"
      ],
      "metadata": {
        "colab": {
          "base_uri": "https://localhost:8080/"
        },
        "id": "ra1nH2S8GUQY",
        "outputId": "8220945d-deb7-4e4c-e796-432b6282c78c"
      },
      "execution_count": 10,
      "outputs": [
        {
          "output_type": "stream",
          "name": "stdout",
          "text": [
            "Resultados de Regresión Logística con frequency:\n",
            "              precision    recall  f1-score   support\n",
            "\n",
            "           0       0.68      0.69      0.68       319\n",
            "           1       0.68      0.71      0.70       389\n",
            "           2       0.74      0.66      0.70       394\n",
            "           3       0.64      0.70      0.67       392\n",
            "           4       0.75      0.81      0.77       385\n",
            "           5       0.79      0.74      0.76       395\n",
            "           6       0.75      0.85      0.80       390\n",
            "           7       0.87      0.84      0.85       396\n",
            "           8       0.91      0.91      0.91       398\n",
            "           9       0.86      0.93      0.89       397\n",
            "          10       0.95      0.92      0.94       399\n",
            "          11       0.91      0.86      0.88       396\n",
            "          12       0.70      0.72      0.71       393\n",
            "          13       0.90      0.80      0.85       396\n",
            "          14       0.89      0.89      0.89       394\n",
            "          15       0.79      0.87      0.83       398\n",
            "          16       0.69      0.86      0.77       364\n",
            "          17       0.94      0.77      0.85       376\n",
            "          18       0.68      0.55      0.60       310\n",
            "          19       0.60      0.55      0.58       251\n",
            "\n",
            "    accuracy                           0.79      7532\n",
            "   macro avg       0.79      0.78      0.78      7532\n",
            "weighted avg       0.79      0.79      0.79      7532\n",
            "\n"
          ]
        }
      ]
    },
    {
      "cell_type": "code",
      "source": [
        "clf_nb = MultinomialNB()\n",
        "clf_nb.fit(X_train_frequency, newsgroups_train.target)\n",
        "y_pred_nb = clf_nb.predict(X_test_frequency)\n",
        "print(\"Resultados de Naive Bayes con frequency:\")\n",
        "print(classification_report(newsgroups_test.target, y_pred_nb))"
      ],
      "metadata": {
        "colab": {
          "base_uri": "https://localhost:8080/"
        },
        "id": "qgAfjoGBGmUB",
        "outputId": "ebdbe42e-4701-4a56-ec5a-e40611dfeaf1"
      },
      "execution_count": 9,
      "outputs": [
        {
          "output_type": "stream",
          "name": "stdout",
          "text": [
            "Resultados de Naive Bayes con frequency:\n",
            "              precision    recall  f1-score   support\n",
            "\n",
            "           0       0.74      0.73      0.73       319\n",
            "           1       0.70      0.78      0.74       389\n",
            "           2       0.78      0.62      0.69       394\n",
            "           3       0.67      0.76      0.71       392\n",
            "           4       0.80      0.82      0.81       385\n",
            "           5       0.81      0.80      0.81       395\n",
            "           6       0.92      0.71      0.80       390\n",
            "           7       0.89      0.93      0.91       396\n",
            "           8       0.93      0.93      0.93       398\n",
            "           9       0.97      0.93      0.95       397\n",
            "          10       0.95      0.98      0.96       399\n",
            "          11       0.79      0.93      0.86       396\n",
            "          12       0.77      0.70      0.73       393\n",
            "          13       0.93      0.85      0.89       396\n",
            "          14       0.87      0.92      0.89       394\n",
            "          15       0.79      0.94      0.86       398\n",
            "          16       0.67      0.94      0.78       364\n",
            "          17       0.93      0.91      0.92       376\n",
            "          18       0.71      0.60      0.65       310\n",
            "          19       0.80      0.40      0.54       251\n",
            "\n",
            "    accuracy                           0.82      7532\n",
            "   macro avg       0.82      0.81      0.81      7532\n",
            "weighted avg       0.82      0.82      0.82      7532\n",
            "\n"
          ]
        }
      ]
    },
    {
      "cell_type": "code",
      "source": [
        "\n",
        "from sklearn.neural_network import MLPClassifier\n",
        "\n",
        "clf_mlp = MLPClassifier(hidden_layer_sizes=(100,), max_iter = 1000, random_state=1)\n",
        "clf_mlp.fit(X_train_frequency, newsgroups_train.target)\n",
        "y_pred_mlp = clf_mlp.predict(X_test_frequency)\n",
        "print(\"Resultados de MLP con frequency\")\n",
        "print(classification_report(newsgroups_test.target,y_pred_mlp))"
      ],
      "metadata": {
        "colab": {
          "base_uri": "https://localhost:8080/"
        },
        "id": "NPFk7YNhGw41",
        "outputId": "ac660c81-d478-49bf-c17a-54eb5ed54b46"
      },
      "execution_count": 12,
      "outputs": [
        {
          "output_type": "stream",
          "name": "stdout",
          "text": [
            "Resultados de MLP con frequency\n",
            "              precision    recall  f1-score   support\n",
            "\n",
            "           0       0.77      0.71      0.74       319\n",
            "           1       0.73      0.80      0.76       389\n",
            "           2       0.78      0.72      0.75       394\n",
            "           3       0.66      0.75      0.70       392\n",
            "           4       0.80      0.82      0.81       385\n",
            "           5       0.85      0.74      0.79       395\n",
            "           6       0.77      0.82      0.80       390\n",
            "           7       0.88      0.89      0.89       396\n",
            "           8       0.96      0.94      0.95       398\n",
            "           9       0.93      0.95      0.94       397\n",
            "          10       0.96      0.95      0.96       399\n",
            "          11       0.92      0.91      0.92       396\n",
            "          12       0.69      0.78      0.73       393\n",
            "          13       0.92      0.82      0.87       396\n",
            "          14       0.94      0.92      0.93       394\n",
            "          15       0.79      0.91      0.84       398\n",
            "          16       0.74      0.89      0.81       364\n",
            "          17       0.96      0.84      0.89       376\n",
            "          18       0.77      0.56      0.65       310\n",
            "          19       0.63      0.60      0.61       251\n",
            "\n",
            "    accuracy                           0.82      7532\n",
            "   macro avg       0.82      0.82      0.82      7532\n",
            "weighted avg       0.83      0.82      0.82      7532\n",
            "\n"
          ]
        }
      ]
    },
    {
      "cell_type": "markdown",
      "source": [
        "**Pruebas a TF-IDF**"
      ],
      "metadata": {
        "id": "CpWvarjnGEYm"
      }
    },
    {
      "cell_type": "code",
      "source": [
        "# Ejemplo de entrenamiento y evaluación con Regresión Logística\n",
        "clf = LogisticRegression(max_iter=1000)\n",
        "clf.fit(X_train_tfidf, newsgroups_train.target)\n",
        "y_pred = clf.predict(X_test_tfidf)\n",
        "print(\"Resultados de Regresión Logística con TF-IDF:\")\n",
        "print(classification_report(newsgroups_test.target, y_pred))"
      ],
      "metadata": {
        "colab": {
          "base_uri": "https://localhost:8080/"
        },
        "id": "4sEmfZzX8Mxl",
        "outputId": "6d63b734-e771-4850-f625-fa32335c9250"
      },
      "execution_count": 4,
      "outputs": [
        {
          "output_type": "stream",
          "name": "stdout",
          "text": [
            "Resultados de Regresión Logística con TF-IDF:\n",
            "              precision    recall  f1-score   support\n",
            "\n",
            "           0       0.73      0.66      0.69       319\n",
            "           1       0.71      0.78      0.74       389\n",
            "           2       0.75      0.72      0.74       394\n",
            "           3       0.71      0.74      0.73       392\n",
            "           4       0.83      0.83      0.83       385\n",
            "           5       0.84      0.77      0.81       395\n",
            "           6       0.75      0.84      0.79       390\n",
            "           7       0.92      0.88      0.90       396\n",
            "           8       0.95      0.94      0.94       398\n",
            "           9       0.92      0.94      0.93       397\n",
            "          10       0.96      0.97      0.96       399\n",
            "          11       0.95      0.89      0.92       396\n",
            "          12       0.73      0.79      0.76       393\n",
            "          13       0.89      0.88      0.89       396\n",
            "          14       0.90      0.91      0.91       394\n",
            "          15       0.75      0.91      0.82       398\n",
            "          16       0.71      0.88      0.78       364\n",
            "          17       0.96      0.87      0.91       376\n",
            "          18       0.75      0.59      0.66       310\n",
            "          19       0.75      0.48      0.58       251\n",
            "\n",
            "    accuracy                           0.82      7532\n",
            "   macro avg       0.82      0.81      0.82      7532\n",
            "weighted avg       0.83      0.82      0.82      7532\n",
            "\n"
          ]
        }
      ]
    },
    {
      "cell_type": "code",
      "source": [
        "\n",
        "# Ejemplo de entrenamiento y evaluación con Naive Bayes Multinomial\n",
        "clf_nb = MultinomialNB()\n",
        "clf_nb.fit(X_train_tfidf, newsgroups_train.target)\n",
        "y_pred_nb = clf_nb.predict(X_test_tfidf)\n",
        "print(\"Resultados de Naive Bayes con TF-IDF:\")\n",
        "print(classification_report(newsgroups_test.target, y_pred_nb))"
      ],
      "metadata": {
        "colab": {
          "base_uri": "https://localhost:8080/"
        },
        "id": "AtWOdxIx8B2W",
        "outputId": "b526ae83-08c6-46b7-9a92-ca4712e0beb2"
      },
      "execution_count": 5,
      "outputs": [
        {
          "output_type": "stream",
          "name": "stdout",
          "text": [
            "Resultados de Naive Bayes con TF-IDF:\n",
            "              precision    recall  f1-score   support\n",
            "\n",
            "           0       0.80      0.54      0.65       319\n",
            "           1       0.76      0.73      0.75       389\n",
            "           2       0.76      0.73      0.74       394\n",
            "           3       0.66      0.80      0.72       392\n",
            "           4       0.84      0.85      0.85       385\n",
            "           5       0.88      0.78      0.82       395\n",
            "           6       0.91      0.74      0.81       390\n",
            "           7       0.90      0.91      0.90       396\n",
            "           8       0.92      0.95      0.94       398\n",
            "           9       0.95      0.96      0.95       397\n",
            "          10       0.95      0.97      0.96       399\n",
            "          11       0.74      0.96      0.84       396\n",
            "          12       0.80      0.67      0.73       393\n",
            "          13       0.94      0.83      0.88       396\n",
            "          14       0.87      0.94      0.91       394\n",
            "          15       0.59      0.96      0.73       398\n",
            "          16       0.63      0.96      0.76       364\n",
            "          17       0.91      0.94      0.93       376\n",
            "          18       0.94      0.49      0.64       310\n",
            "          19       0.97      0.15      0.26       251\n",
            "\n",
            "    accuracy                           0.81      7532\n",
            "   macro avg       0.84      0.79      0.79      7532\n",
            "weighted avg       0.83      0.81      0.80      7532\n",
            "\n"
          ]
        }
      ]
    },
    {
      "cell_type": "code",
      "source": [
        "#clasificación con multilayer perceptron\n",
        "\n",
        "from sklearn.neural_network import MLPClassifier\n",
        "\n",
        "clf_mlp = MLPClassifier(hidden_layer_sizes=(100,), max_iter = 1000, random_state=1)\n",
        "clf_mlp.fit(X_train_tfidf, newsgroups_train.target)\n",
        "y_pred_mlp = clf_mlp.predict(X_test_tfidf)\n",
        "print(\"Resultados de MLP con TF-IDF\")\n",
        "print(classification_report(newsgroups_test.target,y_pred_mlp))\n"
      ],
      "metadata": {
        "colab": {
          "base_uri": "https://localhost:8080/"
        },
        "id": "nMRM5I7nDsBh",
        "outputId": "a356cebb-4052-4175-e0ad-19f0c886ae49"
      },
      "execution_count": 6,
      "outputs": [
        {
          "output_type": "stream",
          "name": "stdout",
          "text": [
            "Resultados de MLP con TF-IDF\n",
            "              precision    recall  f1-score   support\n",
            "\n",
            "           0       0.79      0.73      0.76       319\n",
            "           1       0.76      0.80      0.78       389\n",
            "           2       0.80      0.73      0.76       394\n",
            "           3       0.67      0.77      0.72       392\n",
            "           4       0.84      0.85      0.84       385\n",
            "           5       0.88      0.79      0.83       395\n",
            "           6       0.76      0.83      0.79       390\n",
            "           7       0.91      0.89      0.90       396\n",
            "           8       0.94      0.95      0.95       398\n",
            "           9       0.94      0.95      0.95       397\n",
            "          10       0.96      0.98      0.97       399\n",
            "          11       0.92      0.93      0.93       396\n",
            "          12       0.78      0.78      0.78       393\n",
            "          13       0.93      0.85      0.89       396\n",
            "          14       0.92      0.92      0.92       394\n",
            "          15       0.80      0.91      0.85       398\n",
            "          16       0.73      0.90      0.81       364\n",
            "          17       0.97      0.90      0.93       376\n",
            "          18       0.80      0.60      0.68       310\n",
            "          19       0.71      0.61      0.65       251\n",
            "\n",
            "    accuracy                           0.84      7532\n",
            "   macro avg       0.84      0.83      0.83      7532\n",
            "weighted avg       0.84      0.84      0.84      7532\n",
            "\n"
          ]
        }
      ]
    }
  ]
}